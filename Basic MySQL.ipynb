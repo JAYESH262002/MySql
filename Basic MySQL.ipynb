{
 "cells": [
  {
   "cell_type": "code",
   "execution_count": 1,
   "id": "6f86de23",
   "metadata": {},
   "outputs": [],
   "source": [
    "import mysql.connector as mc"
   ]
  },
  {
   "cell_type": "code",
   "execution_count": 2,
   "id": "2a055e31",
   "metadata": {},
   "outputs": [],
   "source": [
    "mydb=mc.connect(host='localhost', user='root', passwd='Coding@2')"
   ]
  },
  {
   "cell_type": "code",
   "execution_count": 3,
   "id": "06e3d3c1",
   "metadata": {},
   "outputs": [],
   "source": [
    "cursor=mydb.cursor()"
   ]
  },
  {
   "cell_type": "code",
   "execution_count": 4,
   "id": "55bffc34",
   "metadata": {},
   "outputs": [],
   "source": [
    "cursor.execute(\"show databases\")"
   ]
  },
  {
   "cell_type": "code",
   "execution_count": 5,
   "id": "3a7b3b94",
   "metadata": {},
   "outputs": [
    {
     "data": {
      "text/plain": [
       "[('college',),\n",
       " ('information_schema',),\n",
       " ('mydb',),\n",
       " ('mysql',),\n",
       " ('performance_schema',),\n",
       " ('student',)]"
      ]
     },
     "execution_count": 5,
     "metadata": {},
     "output_type": "execute_result"
    }
   ],
   "source": [
    "cursor.fetchall()"
   ]
  },
  {
   "cell_type": "raw",
   "id": "5d6890eb",
   "metadata": {},
   "source": [
    "cursor.execute(\"create database student\")"
   ]
  },
  {
   "cell_type": "code",
   "execution_count": 6,
   "id": "4e2b98a1",
   "metadata": {},
   "outputs": [],
   "source": [
    "cursor.execute(\"use student\")"
   ]
  },
  {
   "cell_type": "raw",
   "id": "caa3acfb",
   "metadata": {},
   "source": [
    "cursor.execute(\"create table form(name varchar(50), student_id int(10), subject varchar(50), mail varchar(100))\")"
   ]
  },
  {
   "cell_type": "code",
   "execution_count": 8,
   "id": "2060bc15",
   "metadata": {},
   "outputs": [],
   "source": [
    "cursor.execute(\"show databases\")"
   ]
  },
  {
   "cell_type": "code",
   "execution_count": 9,
   "id": "a11cf08b",
   "metadata": {},
   "outputs": [
    {
     "data": {
      "text/plain": [
       "[('college',),\n",
       " ('information_schema',),\n",
       " ('mydb',),\n",
       " ('mysql',),\n",
       " ('performance_schema',),\n",
       " ('student',)]"
      ]
     },
     "execution_count": 9,
     "metadata": {},
     "output_type": "execute_result"
    }
   ],
   "source": [
    "cursor.fetchall()"
   ]
  },
  {
   "cell_type": "code",
   "execution_count": 10,
   "id": "947d9501",
   "metadata": {},
   "outputs": [],
   "source": [
    "cursor.execute(\"insert into form values('Jayesh Singh Raghuvanshi',12011963,'mail@gmail.com','CSE')\")"
   ]
  },
  {
   "cell_type": "code",
   "execution_count": 15,
   "id": "625f7690",
   "metadata": {},
   "outputs": [],
   "source": [
    "cursor.execute(\"insert into form values('Raj Singh Raghuvanshi','1','mail2@gmail.com','Mass-Media')\")"
   ]
  },
  {
   "cell_type": "code",
   "execution_count": 16,
   "id": "abdef4d0",
   "metadata": {},
   "outputs": [],
   "source": [
    "cursor.execute(\"insert into form values('Mr. Rajput',2,'mail3@gmail.com','Businessman')\")"
   ]
  },
  {
   "cell_type": "code",
   "execution_count": 17,
   "id": "085d1767",
   "metadata": {},
   "outputs": [],
   "source": [
    "mydb.commit()"
   ]
  },
  {
   "cell_type": "code",
   "execution_count": 18,
   "id": "d31d4653",
   "metadata": {},
   "outputs": [],
   "source": [
    "cursor.execute(\"select * from form\")"
   ]
  },
  {
   "cell_type": "code",
   "execution_count": 21,
   "id": "254381b5",
   "metadata": {
    "scrolled": true
   },
   "outputs": [
    {
     "data": {
      "text/plain": [
       "[('Jayesh Singh Raghuvanshi', 12011963, 'mail@gmail.com', 'CSE'),\n",
       " ('Raj Singh Raghuvanshi', 1, 'mail2@gmail.com', 'Mass-Media'),\n",
       " ('Mr. Rajput', 2, 'mail3@gmail.com', 'Businessman')]"
      ]
     },
     "execution_count": 21,
     "metadata": {},
     "output_type": "execute_result"
    }
   ],
   "source": [
    "cursor.fetchall()"
   ]
  },
  {
   "cell_type": "markdown",
   "id": "c66dda9a",
   "metadata": {},
   "source": [
    "if we want to fetchall values, we have to `commit` it"
   ]
  },
  {
   "cell_type": "code",
   "execution_count": null,
   "id": "99604ed0",
   "metadata": {},
   "outputs": [],
   "source": []
  }
 ],
 "metadata": {
  "kernelspec": {
   "display_name": "Python 3 (ipykernel)",
   "language": "python",
   "name": "python3"
  },
  "language_info": {
   "codemirror_mode": {
    "name": "ipython",
    "version": 3
   },
   "file_extension": ".py",
   "mimetype": "text/x-python",
   "name": "python",
   "nbconvert_exporter": "python",
   "pygments_lexer": "ipython3",
   "version": "3.9.13"
  }
 },
 "nbformat": 4,
 "nbformat_minor": 5
}
