{
 "cells": [
  {
   "cell_type": "code",
   "execution_count": 1,
   "id": "7d9894db",
   "metadata": {},
   "outputs": [],
   "source": [
    "import sqlite3"
   ]
  },
  {
   "cell_type": "code",
   "execution_count": 2,
   "id": "bf2f25fe",
   "metadata": {},
   "outputs": [],
   "source": [
    "db = sqlite3.connect(\"test.db\")"
   ]
  },
  {
   "cell_type": "code",
   "execution_count": 3,
   "id": "cca9b131",
   "metadata": {
    "scrolled": true
   },
   "outputs": [
    {
     "name": "stdout",
     "output_type": "stream",
     "text": [
      " Volume in drive D is MAIN\n",
      " Volume Serial Number is 04CB-92D9\n",
      "\n",
      " Directory of D:\\#DS_Code\\Ineuron_2023\\SQL Lite\n",
      "\n",
      "15-01-2023  12:34    <DIR>          .\n",
      "14-01-2023  21:07    <DIR>          ..\n",
      "14-01-2023  23:36    <DIR>          .ipynb_checkpoints\n",
      "15-01-2023  12:34            31,380 SqlLite,mapreduce,filter.ipynb\n",
      "15-01-2023  12:32             8,192 test.db\n",
      "15-01-2023  12:32             8,192 test2.db\n",
      "15-01-2023  12:32            12,288 test3.db\n",
      "               4 File(s)         60,052 bytes\n",
      "               3 Dir(s)  325,301,825,536 bytes free\n"
     ]
    }
   ],
   "source": [
    "ls"
   ]
  },
  {
   "cell_type": "code",
   "execution_count": 4,
   "id": "3cf0105f",
   "metadata": {},
   "outputs": [],
   "source": [
    "cursor = db.cursor()"
   ]
  },
  {
   "cell_type": "code",
   "execution_count": 5,
   "id": "abc27c8c",
   "metadata": {},
   "outputs": [
    {
     "data": {
      "text/plain": [
       "<sqlite3.Cursor at 0x192fb31f810>"
      ]
     },
     "execution_count": 5,
     "metadata": {},
     "output_type": "execute_result"
    }
   ],
   "source": [
    "cursor.execute(\"drop table data\")"
   ]
  },
  {
   "cell_type": "code",
   "execution_count": 6,
   "id": "c6df07b4",
   "metadata": {
    "scrolled": false
   },
   "outputs": [
    {
     "data": {
      "text/plain": [
       "<sqlite3.Cursor at 0x192fb31f810>"
      ]
     },
     "execution_count": 6,
     "metadata": {},
     "output_type": "execute_result"
    }
   ],
   "source": [
    "cursor.execute(\"create table Data(name text, id int, marks real)\")"
   ]
  },
  {
   "cell_type": "code",
   "execution_count": 7,
   "id": "06ac2ad4",
   "metadata": {},
   "outputs": [
    {
     "data": {
      "text/plain": [
       "<sqlite3.Cursor at 0x192fb31f810>"
      ]
     },
     "execution_count": 7,
     "metadata": {},
     "output_type": "execute_result"
    }
   ],
   "source": [
    "cursor.execute(\"insert into Data values('A', 120, 496.9)\")"
   ]
  },
  {
   "cell_type": "code",
   "execution_count": 8,
   "id": "9b878741",
   "metadata": {},
   "outputs": [
    {
     "data": {
      "text/plain": [
       "<sqlite3.Cursor at 0x192fb31f810>"
      ]
     },
     "execution_count": 8,
     "metadata": {},
     "output_type": "execute_result"
    }
   ],
   "source": [
    "cursor.execute(\"insert into Data values('B', 121, 495)\")\n",
    "cursor.execute(\"insert into Data values('C', 122, 494.7)\")\n",
    "cursor.execute(\"insert into Data values('D', 123, 493.9)\")\n",
    "cursor.execute(\"insert into Data values('E', 124, 492.0)\")\n",
    "cursor.execute(\"insert into Data values('F', 125, 490.5)\")"
   ]
  },
  {
   "cell_type": "code",
   "execution_count": 9,
   "id": "fdbff2cd",
   "metadata": {},
   "outputs": [
    {
     "data": {
      "text/plain": [
       "<sqlite3.Cursor at 0x192fb31f810>"
      ]
     },
     "execution_count": 9,
     "metadata": {},
     "output_type": "execute_result"
    }
   ],
   "source": [
    "cursor.execute(\"select * from Data\")"
   ]
  },
  {
   "cell_type": "code",
   "execution_count": 10,
   "id": "707f2551",
   "metadata": {},
   "outputs": [
    {
     "data": {
      "text/plain": [
       "[('A', 120, 496.9),\n",
       " ('B', 121, 495.0),\n",
       " ('C', 122, 494.7),\n",
       " ('D', 123, 493.9),\n",
       " ('E', 124, 492.0),\n",
       " ('F', 125, 490.5)]"
      ]
     },
     "execution_count": 10,
     "metadata": {},
     "output_type": "execute_result"
    }
   ],
   "source": [
    "cursor.fetchall()"
   ]
  },
  {
   "cell_type": "code",
   "execution_count": 11,
   "id": "6d0a8ebe",
   "metadata": {},
   "outputs": [],
   "source": [
    "db.commit()"
   ]
  },
  {
   "cell_type": "code",
   "execution_count": 12,
   "id": "404e6982",
   "metadata": {},
   "outputs": [],
   "source": [
    "db.close()"
   ]
  },
  {
   "cell_type": "code",
   "execution_count": 13,
   "id": "64f1a4ef",
   "metadata": {},
   "outputs": [
    {
     "name": "stdout",
     "output_type": "stream",
     "text": [
      " Volume in drive D is MAIN\n",
      " Volume Serial Number is 04CB-92D9\n",
      "\n",
      " Directory of D:\\#DS_Code\\Ineuron_2023\\SQL Lite\n",
      "\n",
      "15-01-2023  12:35    <DIR>          .\n",
      "14-01-2023  21:07    <DIR>          ..\n",
      "14-01-2023  23:36    <DIR>          .ipynb_checkpoints\n",
      "15-01-2023  12:34            31,380 SqlLite,mapreduce,filter.ipynb\n",
      "15-01-2023  12:35             8,192 test.db\n",
      "15-01-2023  12:32             8,192 test2.db\n",
      "15-01-2023  12:32            12,288 test3.db\n",
      "               4 File(s)         60,052 bytes\n",
      "               3 Dir(s)  325,301,825,536 bytes free\n"
     ]
    }
   ],
   "source": [
    "ls"
   ]
  },
  {
   "cell_type": "code",
   "execution_count": 14,
   "id": "c5f526b2",
   "metadata": {},
   "outputs": [],
   "source": [
    "db = sqlite3.connect(\"test.db\")"
   ]
  },
  {
   "cell_type": "code",
   "execution_count": 15,
   "id": "08a033d6",
   "metadata": {},
   "outputs": [],
   "source": [
    "cursor = db.cursor()"
   ]
  },
  {
   "cell_type": "code",
   "execution_count": 16,
   "id": "3dbd4859",
   "metadata": {},
   "outputs": [
    {
     "data": {
      "text/plain": [
       "<sqlite3.Cursor at 0x192fb34c960>"
      ]
     },
     "execution_count": 16,
     "metadata": {},
     "output_type": "execute_result"
    }
   ],
   "source": [
    "cursor.execute(\"select * from Data where marks > 495\")"
   ]
  },
  {
   "cell_type": "code",
   "execution_count": 17,
   "id": "c969a655",
   "metadata": {},
   "outputs": [
    {
     "data": {
      "text/plain": [
       "[('A', 120, 496.9)]"
      ]
     },
     "execution_count": 17,
     "metadata": {},
     "output_type": "execute_result"
    }
   ],
   "source": [
    "cursor.fetchall()"
   ]
  },
  {
   "cell_type": "code",
   "execution_count": 18,
   "id": "f6873426",
   "metadata": {},
   "outputs": [],
   "source": [
    "db.close()"
   ]
  },
  {
   "cell_type": "code",
   "execution_count": 19,
   "id": "2b20783e",
   "metadata": {},
   "outputs": [],
   "source": [
    "db = sqlite3.connect(\"test2.db\")"
   ]
  },
  {
   "cell_type": "code",
   "execution_count": 20,
   "id": "f2b8f8f1",
   "metadata": {},
   "outputs": [],
   "source": [
    "cursor = db.cursor()"
   ]
  },
  {
   "cell_type": "code",
   "execution_count": 21,
   "id": "67c20e36",
   "metadata": {
    "scrolled": true
   },
   "outputs": [
    {
     "data": {
      "text/plain": [
       "<sqlite3.Cursor at 0x192fb34c730>"
      ]
     },
     "execution_count": 21,
     "metadata": {},
     "output_type": "execute_result"
    }
   ],
   "source": [
    "cursor.execute(\"drop table data2\")"
   ]
  },
  {
   "cell_type": "code",
   "execution_count": 22,
   "id": "8d82072e",
   "metadata": {
    "scrolled": true
   },
   "outputs": [
    {
     "data": {
      "text/plain": [
       "<sqlite3.Cursor at 0x192fb34c730>"
      ]
     },
     "execution_count": 22,
     "metadata": {},
     "output_type": "execute_result"
    }
   ],
   "source": [
    "cursor.execute(\"create table Data2(name text, mail text, age int, salary real)\")"
   ]
  },
  {
   "cell_type": "code",
   "execution_count": 23,
   "id": "2b02f921",
   "metadata": {},
   "outputs": [
    {
     "data": {
      "text/plain": [
       "<sqlite3.Cursor at 0x192fb34c730>"
      ]
     },
     "execution_count": 23,
     "metadata": {},
     "output_type": "execute_result"
    }
   ],
   "source": [
    "cursor.execute(\"insert into Data2 values('A', 'mail@gmail.com', 24, 8354)\")\n",
    "cursor.execute(\"insert into Data2 values('B', 'mail2@gmail.com',25, 4441)\")\n",
    "cursor.execute(\"insert into Data2 values('C', 'mail3@gmail.com',26, 6554)\")\n",
    "cursor.execute(\"insert into Data2 values('D', 'mail4@gmail.com',27, 4541)\")"
   ]
  },
  {
   "cell_type": "code",
   "execution_count": 24,
   "id": "1ea4bf0b",
   "metadata": {},
   "outputs": [
    {
     "name": "stdout",
     "output_type": "stream",
     "text": [
      " Volume in drive D is MAIN\n",
      " Volume Serial Number is 04CB-92D9\n",
      "\n",
      " Directory of D:\\#DS_Code\\Ineuron_2023\\SQL Lite\n",
      "\n",
      "15-01-2023  12:35    <DIR>          .\n",
      "14-01-2023  21:07    <DIR>          ..\n",
      "14-01-2023  23:36    <DIR>          .ipynb_checkpoints\n",
      "15-01-2023  12:34            31,380 SqlLite,mapreduce,filter.ipynb\n",
      "15-01-2023  12:35             8,192 test.db\n",
      "15-01-2023  12:35             8,192 test2.db\n",
      "15-01-2023  12:35                 0 test2.db-journal\n",
      "15-01-2023  12:32            12,288 test3.db\n",
      "               5 File(s)         60,052 bytes\n",
      "               3 Dir(s)  325,301,817,344 bytes free\n"
     ]
    }
   ],
   "source": [
    "ls"
   ]
  },
  {
   "cell_type": "code",
   "execution_count": 25,
   "id": "f6c1b21f",
   "metadata": {},
   "outputs": [
    {
     "data": {
      "text/plain": [
       "<sqlite3.Cursor at 0x192fb34c730>"
      ]
     },
     "execution_count": 25,
     "metadata": {},
     "output_type": "execute_result"
    }
   ],
   "source": [
    "cursor.execute(\"select * from Data2\")"
   ]
  },
  {
   "cell_type": "code",
   "execution_count": 26,
   "id": "812ae93c",
   "metadata": {},
   "outputs": [
    {
     "data": {
      "text/plain": [
       "[('A', 'mail@gmail.com', 24, 8354.0),\n",
       " ('B', 'mail2@gmail.com', 25, 4441.0),\n",
       " ('C', 'mail3@gmail.com', 26, 6554.0),\n",
       " ('D', 'mail4@gmail.com', 27, 4541.0)]"
      ]
     },
     "execution_count": 26,
     "metadata": {},
     "output_type": "execute_result"
    }
   ],
   "source": [
    "cursor.fetchall()"
   ]
  },
  {
   "cell_type": "code",
   "execution_count": 27,
   "id": "be786720",
   "metadata": {},
   "outputs": [],
   "source": [
    "db.commit()"
   ]
  },
  {
   "cell_type": "code",
   "execution_count": 28,
   "id": "a386bf4d",
   "metadata": {},
   "outputs": [],
   "source": [
    "db.close()"
   ]
  },
  {
   "cell_type": "code",
   "execution_count": 29,
   "id": "ab57f6a2",
   "metadata": {},
   "outputs": [
    {
     "name": "stdout",
     "output_type": "stream",
     "text": [
      " Volume in drive D is MAIN\n",
      " Volume Serial Number is 04CB-92D9\n",
      "\n",
      " Directory of D:\\#DS_Code\\Ineuron_2023\\SQL Lite\n",
      "\n",
      "15-01-2023  12:35    <DIR>          .\n",
      "14-01-2023  21:07    <DIR>          ..\n",
      "14-01-2023  23:36    <DIR>          .ipynb_checkpoints\n",
      "15-01-2023  12:34            31,380 SqlLite,mapreduce,filter.ipynb\n",
      "15-01-2023  12:35             8,192 test.db\n",
      "15-01-2023  12:35             8,192 test2.db\n",
      "15-01-2023  12:32            12,288 test3.db\n",
      "               4 File(s)         60,052 bytes\n",
      "               3 Dir(s)  325,301,825,536 bytes free\n"
     ]
    }
   ],
   "source": [
    "ls"
   ]
  },
  {
   "cell_type": "raw",
   "id": "216b7dcf",
   "metadata": {},
   "source": [
    "db = sqlite3.connect(\"test.db\")"
   ]
  },
  {
   "cell_type": "raw",
   "id": "baed729d",
   "metadata": {},
   "source": [
    "cursor = db.cursor()"
   ]
  },
  {
   "cell_type": "raw",
   "id": "019b1699",
   "metadata": {},
   "source": [
    "cursor.execute(\"drop table data\")"
   ]
  },
  {
   "cell_type": "raw",
   "id": "9de59f9a",
   "metadata": {},
   "source": [
    "cursor.execute(\"select * from data\")"
   ]
  },
  {
   "cell_type": "markdown",
   "id": "01a4a176",
   "metadata": {},
   "source": [
    "it's means the files is already deleted"
   ]
  },
  {
   "cell_type": "raw",
   "id": "656df4e1",
   "metadata": {},
   "source": [
    "db.commit()"
   ]
  },
  {
   "cell_type": "raw",
   "id": "be574c51",
   "metadata": {},
   "source": [
    "db.close()"
   ]
  },
  {
   "cell_type": "code",
   "execution_count": 30,
   "id": "ce744e99",
   "metadata": {},
   "outputs": [],
   "source": [
    "db = sqlite3.connect('test2.db')"
   ]
  },
  {
   "cell_type": "code",
   "execution_count": 31,
   "id": "707f47c7",
   "metadata": {},
   "outputs": [],
   "source": [
    "cursor = db.cursor()"
   ]
  },
  {
   "cell_type": "code",
   "execution_count": 32,
   "id": "4702b494",
   "metadata": {},
   "outputs": [
    {
     "data": {
      "text/plain": [
       "<sqlite3.Cursor at 0x192fb34cdc0>"
      ]
     },
     "execution_count": 32,
     "metadata": {},
     "output_type": "execute_result"
    }
   ],
   "source": [
    "cursor.execute(\"select * from data2 limit 2\")"
   ]
  },
  {
   "cell_type": "code",
   "execution_count": 33,
   "id": "6e089637",
   "metadata": {},
   "outputs": [
    {
     "data": {
      "text/plain": [
       "[('A', 'mail@gmail.com', 24, 8354.0), ('B', 'mail2@gmail.com', 25, 4441.0)]"
      ]
     },
     "execution_count": 33,
     "metadata": {},
     "output_type": "execute_result"
    }
   ],
   "source": [
    "cursor.fetchall()"
   ]
  },
  {
   "cell_type": "code",
   "execution_count": 34,
   "id": "6abea1bf",
   "metadata": {},
   "outputs": [],
   "source": [
    "db.close()"
   ]
  },
  {
   "cell_type": "code",
   "execution_count": 35,
   "id": "81132bb4",
   "metadata": {},
   "outputs": [],
   "source": [
    "db = sqlite3.connect(\"test3.db\")"
   ]
  },
  {
   "cell_type": "code",
   "execution_count": 36,
   "id": "2a2ea76e",
   "metadata": {},
   "outputs": [],
   "source": [
    "cursor = db.cursor()"
   ]
  },
  {
   "cell_type": "code",
   "execution_count": 37,
   "id": "6fb067c0",
   "metadata": {},
   "outputs": [
    {
     "data": {
      "text/plain": [
       "<sqlite3.Cursor at 0x192fb35f8f0>"
      ]
     },
     "execution_count": 37,
     "metadata": {},
     "output_type": "execute_result"
    }
   ],
   "source": [
    "cursor.execute(\"drop table student\")\n",
    "cursor.execute(\"drop table address\")"
   ]
  },
  {
   "cell_type": "code",
   "execution_count": 38,
   "id": "108c0e11",
   "metadata": {},
   "outputs": [
    {
     "data": {
      "text/plain": [
       "<sqlite3.Cursor at 0x192fb35f8f0>"
      ]
     },
     "execution_count": 38,
     "metadata": {},
     "output_type": "execute_result"
    }
   ],
   "source": [
    "cursor.execute(\"create table student(id int, name text, mail text, marks real)\")"
   ]
  },
  {
   "cell_type": "code",
   "execution_count": 39,
   "id": "961f3b4a",
   "metadata": {
    "scrolled": false
   },
   "outputs": [
    {
     "data": {
      "text/plain": [
       "<sqlite3.Cursor at 0x192fb35f8f0>"
      ]
     },
     "execution_count": 39,
     "metadata": {},
     "output_type": "execute_result"
    }
   ],
   "source": [
    "cursor.execute(\"create table address(id test, pincode int, location text, phone int)\")"
   ]
  },
  {
   "cell_type": "code",
   "execution_count": 40,
   "id": "162d3a71",
   "metadata": {},
   "outputs": [
    {
     "data": {
      "text/plain": [
       "<sqlite3.Cursor at 0x192fb35f8f0>"
      ]
     },
     "execution_count": 40,
     "metadata": {},
     "output_type": "execute_result"
    }
   ],
   "source": [
    "cursor.execute(\"insert into student values(1,'A','mail@gmail.com',98)\")\n",
    "cursor.execute(\"insert into student values(2,'B','mail2@gmail.com',94)\")\n",
    "cursor.execute(\"insert into student values(3,'C','mail3@gmail.com',97)\")\n",
    "cursor.execute(\"insert into student values(4,'D','mail4@gmail.com',91)\")\n",
    "cursor.execute(\"insert into student values(5,'E','mail5@gmail.com',99)\")\n",
    "cursor.execute(\"insert into student values(6,'F','mail6@gmail.com',96)\")\n",
    "cursor.execute(\"insert into student values(7,'G','mail7@gmail.com',92)\")\n",
    "cursor.execute(\"insert into student values(8,'H','mail8@gmail.com',98)\")\n",
    "cursor.execute(\"insert into student values(9,'I','mail9@gmail.com',98)\")\n",
    "cursor.execute(\"insert into student values(10,'J','mail19@gmail.com',94)\")"
   ]
  },
  {
   "cell_type": "code",
   "execution_count": 41,
   "id": "2b0bd8ed",
   "metadata": {},
   "outputs": [
    {
     "data": {
      "text/plain": [
       "<sqlite3.Cursor at 0x192fb35f8f0>"
      ]
     },
     "execution_count": 41,
     "metadata": {},
     "output_type": "execute_result"
    }
   ],
   "source": [
    "cursor.execute(\"insert into address values(11,'123','x',9546257898)\")\n",
    "cursor.execute(\"insert into address values(12,'456','y',9456356854)\")\n",
    "cursor.execute(\"insert into address values(13,'789','z',9562545367)\")\n",
    "cursor.execute(\"insert into address values(4,'123','x',9789251451)\")\n",
    "cursor.execute(\"insert into address values(5,'789','z',9253698759)\")\n",
    "cursor.execute(\"insert into address values(6,'789','z',9569325746)\")\n",
    "cursor.execute(\"insert into address values(7,'456','y',9546785272)\")\n",
    "cursor.execute(\"insert into address values(14,'123','x',9545234548)\")\n",
    "cursor.execute(\"insert into address values(9,'789','z',9538623545)\")\n",
    "cursor.execute(\"insert into address values(2,'123','x',9523452344)\")"
   ]
  },
  {
   "cell_type": "code",
   "execution_count": 42,
   "id": "51b03134",
   "metadata": {
    "scrolled": true
   },
   "outputs": [
    {
     "data": {
      "text/plain": [
       "[(1, 'A', 'mail@gmail.com', 98.0),\n",
       " (2, 'B', 'mail2@gmail.com', 94.0),\n",
       " (3, 'C', 'mail3@gmail.com', 97.0),\n",
       " (4, 'D', 'mail4@gmail.com', 91.0),\n",
       " (5, 'E', 'mail5@gmail.com', 99.0),\n",
       " (6, 'F', 'mail6@gmail.com', 96.0),\n",
       " (7, 'G', 'mail7@gmail.com', 92.0),\n",
       " (8, 'H', 'mail8@gmail.com', 98.0),\n",
       " (9, 'I', 'mail9@gmail.com', 98.0),\n",
       " (10, 'J', 'mail19@gmail.com', 94.0)]"
      ]
     },
     "execution_count": 42,
     "metadata": {},
     "output_type": "execute_result"
    }
   ],
   "source": [
    "cursor.execute(\"select * from student\")\n",
    "cursor.fetchall()"
   ]
  },
  {
   "cell_type": "code",
   "execution_count": 43,
   "id": "7a5972de",
   "metadata": {},
   "outputs": [
    {
     "data": {
      "text/plain": [
       "<sqlite3.Cursor at 0x192fb35f8f0>"
      ]
     },
     "execution_count": 43,
     "metadata": {},
     "output_type": "execute_result"
    }
   ],
   "source": [
    "cursor.execute(\"select * from student s left join address a on s.id=a.id\")"
   ]
  },
  {
   "cell_type": "markdown",
   "id": "cd517792",
   "metadata": {},
   "source": [
    "where `s` and `a` are nickname of `student` and `address`"
   ]
  },
  {
   "cell_type": "code",
   "execution_count": 44,
   "id": "63d08968",
   "metadata": {},
   "outputs": [
    {
     "data": {
      "text/plain": [
       "[(1, 'A', 'mail@gmail.com', 98.0, None, None, None, None),\n",
       " (2, 'B', 'mail2@gmail.com', 94.0, 2, 123, 'x', 9523452344),\n",
       " (3, 'C', 'mail3@gmail.com', 97.0, None, None, None, None),\n",
       " (4, 'D', 'mail4@gmail.com', 91.0, 4, 123, 'x', 9789251451),\n",
       " (5, 'E', 'mail5@gmail.com', 99.0, 5, 789, 'z', 9253698759),\n",
       " (6, 'F', 'mail6@gmail.com', 96.0, 6, 789, 'z', 9569325746),\n",
       " (7, 'G', 'mail7@gmail.com', 92.0, 7, 456, 'y', 9546785272),\n",
       " (8, 'H', 'mail8@gmail.com', 98.0, None, None, None, None),\n",
       " (9, 'I', 'mail9@gmail.com', 98.0, 9, 789, 'z', 9538623545),\n",
       " (10, 'J', 'mail19@gmail.com', 94.0, None, None, None, None)]"
      ]
     },
     "execution_count": 44,
     "metadata": {},
     "output_type": "execute_result"
    }
   ],
   "source": [
    "cursor.fetchall()"
   ]
  },
  {
   "cell_type": "code",
   "execution_count": 45,
   "id": "5be85ade",
   "metadata": {
    "scrolled": true
   },
   "outputs": [
    {
     "data": {
      "text/plain": [
       "<sqlite3.Cursor at 0x192fb35f8f0>"
      ]
     },
     "execution_count": 45,
     "metadata": {},
     "output_type": "execute_result"
    }
   ],
   "source": [
    "cursor.execute(\"delete from student where id>7\")"
   ]
  },
  {
   "cell_type": "code",
   "execution_count": 46,
   "id": "e43599b9",
   "metadata": {},
   "outputs": [
    {
     "data": {
      "text/plain": [
       "<sqlite3.Cursor at 0x192fb35f8f0>"
      ]
     },
     "execution_count": 46,
     "metadata": {},
     "output_type": "execute_result"
    }
   ],
   "source": [
    "cursor.execute(\"select * from student\")"
   ]
  },
  {
   "cell_type": "code",
   "execution_count": 47,
   "id": "93ff5d0d",
   "metadata": {},
   "outputs": [
    {
     "data": {
      "text/plain": [
       "[(1, 'A', 'mail@gmail.com', 98.0),\n",
       " (2, 'B', 'mail2@gmail.com', 94.0),\n",
       " (3, 'C', 'mail3@gmail.com', 97.0),\n",
       " (4, 'D', 'mail4@gmail.com', 91.0),\n",
       " (5, 'E', 'mail5@gmail.com', 99.0),\n",
       " (6, 'F', 'mail6@gmail.com', 96.0),\n",
       " (7, 'G', 'mail7@gmail.com', 92.0)]"
      ]
     },
     "execution_count": 47,
     "metadata": {},
     "output_type": "execute_result"
    }
   ],
   "source": [
    "cursor.fetchall()"
   ]
  },
  {
   "cell_type": "code",
   "execution_count": 48,
   "id": "cae19def",
   "metadata": {},
   "outputs": [
    {
     "data": {
      "text/plain": [
       "<sqlite3.Cursor at 0x192fb35f8f0>"
      ]
     },
     "execution_count": 48,
     "metadata": {},
     "output_type": "execute_result"
    }
   ],
   "source": [
    "cursor.execute(\"update student set id = 10 where id = 2\")"
   ]
  },
  {
   "cell_type": "code",
   "execution_count": 49,
   "id": "a4e83b10",
   "metadata": {},
   "outputs": [
    {
     "data": {
      "text/plain": [
       "<sqlite3.Cursor at 0x192fb35f8f0>"
      ]
     },
     "execution_count": 49,
     "metadata": {},
     "output_type": "execute_result"
    }
   ],
   "source": [
    "cursor.execute(\"update student set name ='Z' where name = 'B'\")"
   ]
  },
  {
   "cell_type": "code",
   "execution_count": 50,
   "id": "91f6b8cc",
   "metadata": {
    "scrolled": true
   },
   "outputs": [
    {
     "data": {
      "text/plain": [
       "[(1, 'A', 'mail@gmail.com', 98.0),\n",
       " (10, 'Z', 'mail2@gmail.com', 94.0),\n",
       " (3, 'C', 'mail3@gmail.com', 97.0),\n",
       " (4, 'D', 'mail4@gmail.com', 91.0),\n",
       " (5, 'E', 'mail5@gmail.com', 99.0),\n",
       " (6, 'F', 'mail6@gmail.com', 96.0),\n",
       " (7, 'G', 'mail7@gmail.com', 92.0)]"
      ]
     },
     "execution_count": 50,
     "metadata": {},
     "output_type": "execute_result"
    }
   ],
   "source": [
    "cursor.execute(\"select * from student\")\n",
    "cursor.fetchall()"
   ]
  },
  {
   "cell_type": "code",
   "execution_count": 51,
   "id": "c8e8a60b",
   "metadata": {},
   "outputs": [],
   "source": [
    "db.commit()\n",
    "db.close()"
   ]
  },
  {
   "cell_type": "code",
   "execution_count": 52,
   "id": "da49a077",
   "metadata": {},
   "outputs": [],
   "source": [
    "lst = [1,2,3,4,5,6]"
   ]
  },
  {
   "cell_type": "code",
   "execution_count": 53,
   "id": "c2dee07c",
   "metadata": {},
   "outputs": [],
   "source": [
    "lst2 = []\n",
    "for i in lst:\n",
    "    lst2.append(i+5)"
   ]
  },
  {
   "cell_type": "code",
   "execution_count": 54,
   "id": "817be73b",
   "metadata": {},
   "outputs": [
    {
     "data": {
      "text/plain": [
       "[6, 7, 8, 9, 10, 11]"
      ]
     },
     "execution_count": 54,
     "metadata": {},
     "output_type": "execute_result"
    }
   ],
   "source": [
    "lst2"
   ]
  },
  {
   "cell_type": "code",
   "execution_count": 55,
   "id": "d14fbd76",
   "metadata": {},
   "outputs": [
    {
     "data": {
      "text/plain": [
       "[6, 7, 8, 9, 10, 11]"
      ]
     },
     "execution_count": 55,
     "metadata": {},
     "output_type": "execute_result"
    }
   ],
   "source": [
    "[i+5 for i in lst]"
   ]
  },
  {
   "cell_type": "markdown",
   "id": "ab900062",
   "metadata": {},
   "source": [
    "#### <div class='alert alert-info'>map()</div>"
   ]
  },
  {
   "cell_type": "code",
   "execution_count": 56,
   "id": "93cdb0f3",
   "metadata": {},
   "outputs": [],
   "source": [
    "def test(a):\n",
    "    return a+5"
   ]
  },
  {
   "cell_type": "code",
   "execution_count": 57,
   "id": "4eaa9943",
   "metadata": {},
   "outputs": [
    {
     "data": {
      "text/plain": [
       "[6, 7, 8, 9, 10, 11]"
      ]
     },
     "execution_count": 57,
     "metadata": {},
     "output_type": "execute_result"
    }
   ],
   "source": [
    "list(map(test, lst))"
   ]
  },
  {
   "cell_type": "code",
   "execution_count": 58,
   "id": "ee659b09",
   "metadata": {},
   "outputs": [],
   "source": [
    "def test2(a):\n",
    "    return a*5*4"
   ]
  },
  {
   "cell_type": "code",
   "execution_count": 59,
   "id": "2cc0d9fc",
   "metadata": {},
   "outputs": [
    {
     "data": {
      "text/plain": [
       "[120, 140, 160, 180, 200, 220]"
      ]
     },
     "execution_count": 59,
     "metadata": {},
     "output_type": "execute_result"
    }
   ],
   "source": [
    "list(map(test2, lst2))"
   ]
  },
  {
   "cell_type": "code",
   "execution_count": 60,
   "id": "085ceb1c",
   "metadata": {},
   "outputs": [],
   "source": [
    "lst3 = ['1','2','3','4','5']"
   ]
  },
  {
   "cell_type": "code",
   "execution_count": 61,
   "id": "1a0a3171",
   "metadata": {},
   "outputs": [],
   "source": [
    "def test4(a):\n",
    "    return int(a)"
   ]
  },
  {
   "cell_type": "code",
   "execution_count": 62,
   "id": "ddb1b5a9",
   "metadata": {},
   "outputs": [
    {
     "data": {
      "text/plain": [
       "[1, 2, 3, 4, 5]"
      ]
     },
     "execution_count": 62,
     "metadata": {},
     "output_type": "execute_result"
    }
   ],
   "source": [
    "list(map(test4, lst3))"
   ]
  },
  {
   "cell_type": "code",
   "execution_count": 63,
   "id": "8096b7ef",
   "metadata": {},
   "outputs": [
    {
     "data": {
      "text/plain": [
       "[1, 2, 3, 4, 5]"
      ]
     },
     "execution_count": 63,
     "metadata": {},
     "output_type": "execute_result"
    }
   ],
   "source": [
    "list(map(lambda x:int(x), lst3))"
   ]
  },
  {
   "cell_type": "code",
   "execution_count": 64,
   "id": "834661b6",
   "metadata": {},
   "outputs": [],
   "source": [
    "#even or odd\n",
    "def test4(a):\n",
    "    if(a%2==0):\n",
    "        return 'even'"
   ]
  },
  {
   "cell_type": "code",
   "execution_count": 65,
   "id": "7a0bee27",
   "metadata": {},
   "outputs": [
    {
     "data": {
      "text/plain": [
       "['even', None, 'even', None, 'even', None]"
      ]
     },
     "execution_count": 65,
     "metadata": {},
     "output_type": "execute_result"
    }
   ],
   "source": [
    "list(map(test4, lst2))"
   ]
  },
  {
   "cell_type": "code",
   "execution_count": 66,
   "id": "1930f71f",
   "metadata": {},
   "outputs": [
    {
     "data": {
      "text/plain": [
       "[6, 8, 10]"
      ]
     },
     "execution_count": 66,
     "metadata": {},
     "output_type": "execute_result"
    }
   ],
   "source": [
    "[i for i in lst2 if i%2==0]"
   ]
  },
  {
   "cell_type": "code",
   "execution_count": 67,
   "id": "362bbce0",
   "metadata": {},
   "outputs": [
    {
     "data": {
      "text/plain": [
       "[6, 8, 10]"
      ]
     },
     "execution_count": 67,
     "metadata": {},
     "output_type": "execute_result"
    }
   ],
   "source": [
    "list(filter(test4, lst2))"
   ]
  },
  {
   "cell_type": "code",
   "execution_count": 68,
   "id": "0d67e334",
   "metadata": {},
   "outputs": [
    {
     "data": {
      "text/plain": [
       "[6, 8, 10]"
      ]
     },
     "execution_count": 68,
     "metadata": {},
     "output_type": "execute_result"
    }
   ],
   "source": [
    "list(filter(lambda x: x%2==0 , lst2))"
   ]
  },
  {
   "cell_type": "code",
   "execution_count": 69,
   "id": "0d9533af",
   "metadata": {},
   "outputs": [],
   "source": [
    "from functools import reduce"
   ]
  },
  {
   "cell_type": "code",
   "execution_count": 70,
   "id": "44d4c674",
   "metadata": {},
   "outputs": [],
   "source": [
    "lst4 = [4,5,6,67,6]"
   ]
  },
  {
   "cell_type": "code",
   "execution_count": 71,
   "id": "f9ae9dd8",
   "metadata": {},
   "outputs": [],
   "source": [
    "def test5(a, b):\n",
    "    return a+b"
   ]
  },
  {
   "cell_type": "code",
   "execution_count": 72,
   "id": "ed834c9a",
   "metadata": {},
   "outputs": [
    {
     "data": {
      "text/plain": [
       "88"
      ]
     },
     "execution_count": 72,
     "metadata": {},
     "output_type": "execute_result"
    }
   ],
   "source": [
    "reduce(test5, lst4)"
   ]
  },
  {
   "cell_type": "code",
   "execution_count": 73,
   "id": "dce17918",
   "metadata": {},
   "outputs": [
    {
     "data": {
      "text/plain": [
       "88"
      ]
     },
     "execution_count": 73,
     "metadata": {},
     "output_type": "execute_result"
    }
   ],
   "source": [
    "reduce(lambda x,y: x+y, lst4)"
   ]
  },
  {
   "cell_type": "code",
   "execution_count": 74,
   "id": "a49ea60b",
   "metadata": {},
   "outputs": [
    {
     "data": {
      "text/plain": [
       "88"
      ]
     },
     "execution_count": 74,
     "metadata": {},
     "output_type": "execute_result"
    }
   ],
   "source": [
    "sum(lst4)"
   ]
  },
  {
   "cell_type": "code",
   "execution_count": 75,
   "id": "9abd9b2d",
   "metadata": {},
   "outputs": [
    {
     "data": {
      "text/plain": [
       "([6, 7, 8, 9, 10, 11], ['1', '2', '3', '4', '5'], [4, 5, 6, 67, 6])"
      ]
     },
     "execution_count": 75,
     "metadata": {},
     "output_type": "execute_result"
    }
   ],
   "source": [
    "lst2, lst3, lst4"
   ]
  },
  {
   "cell_type": "code",
   "execution_count": 76,
   "id": "ba04d508",
   "metadata": {},
   "outputs": [
    {
     "data": {
      "text/plain": [
       "[(6, '1', 4), (7, '2', 5), (8, '3', 6), (9, '4', 67), (10, '5', 6)]"
      ]
     },
     "execution_count": 76,
     "metadata": {},
     "output_type": "execute_result"
    }
   ],
   "source": [
    "list(zip(lst2, lst3, lst4))"
   ]
  },
  {
   "cell_type": "markdown",
   "id": "dc9c965d",
   "metadata": {},
   "source": [
    "`zip` will be able to create pair of the minimum element(size wise)"
   ]
  },
  {
   "cell_type": "code",
   "execution_count": null,
   "id": "1a67b427",
   "metadata": {},
   "outputs": [],
   "source": []
  }
 ],
 "metadata": {
  "kernelspec": {
   "display_name": "Python 3 (ipykernel)",
   "language": "python",
   "name": "python3"
  },
  "language_info": {
   "codemirror_mode": {
    "name": "ipython",
    "version": 3
   },
   "file_extension": ".py",
   "mimetype": "text/x-python",
   "name": "python",
   "nbconvert_exporter": "python",
   "pygments_lexer": "ipython3",
   "version": "3.9.13"
  }
 },
 "nbformat": 4,
 "nbformat_minor": 5
}
